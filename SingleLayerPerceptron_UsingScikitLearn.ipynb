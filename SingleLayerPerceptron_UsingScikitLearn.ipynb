{
 "cells": [
  {
   "cell_type": "code",
   "execution_count": 1,
   "id": "e78b8cb3",
   "metadata": {},
   "outputs": [],
   "source": [
    "import numpy as np\n",
    "from sklearn import datasets\n",
    "from sklearn.model_selection import train_test_split\n",
    "from sklearn.preprocessing import StandardScaler"
   ]
  },
  {
   "cell_type": "code",
   "execution_count": 2,
   "id": "a71802e6",
   "metadata": {},
   "outputs": [],
   "source": [
    "# Activation function (Step function)\n",
    "def step_function(x):\n",
    "    return np.where(x >= 0, 1, 0)"
   ]
  },
  {
   "cell_type": "code",
   "execution_count": 3,
   "id": "2966b877",
   "metadata": {},
   "outputs": [],
   "source": [
    "# Perceptron model\n",
    "class SingleLayerPerceptron:\n",
    "    def __init__(self, input_size, learning_rate=0.01, epochs=100):\n",
    "        # Initialize weights and bias\n",
    "        self.weights = np.zeros(input_size)\n",
    "        self.bias = 0\n",
    "        self.learning_rate = learning_rate\n",
    "        self.epochs = epochs\n",
    "\n",
    "    # Forward pass\n",
    "    def predict(self, X):\n",
    "        linear_output = np.dot(X, self.weights) + self.bias\n",
    "        return step_function(linear_output)\n",
    "\n",
    "    # Training the model\n",
    "    def train(self, X, y):\n",
    "        for epoch in range(self.epochs):\n",
    "            for i in range(len(X)):\n",
    "                # Make prediction\n",
    "                prediction = self.predict(X[i])\n",
    "                # Update rule for weights and bias\n",
    "                update = self.learning_rate * (y[i] - prediction)\n",
    "                self.weights += update * X[i]\n",
    "                self.bias += update"
   ]
  },
  {
   "cell_type": "code",
   "execution_count": 4,
   "id": "9d710aa8",
   "metadata": {},
   "outputs": [],
   "source": [
    "# Load the Iris dataset\n",
    "iris = datasets.load_iris()"
   ]
  },
  {
   "cell_type": "code",
   "execution_count": 5,
   "id": "30bb22b6",
   "metadata": {},
   "outputs": [],
   "source": [
    "# We will use only two classes (0 and 1) and two features for simplicity\n",
    "X = iris.data[:100, :2]  # Using first 100 samples and first 2 features\n",
    "y = iris.target[:100]    # Labels (0: Setosa, 1: Versicolor)"
   ]
  },
  {
   "cell_type": "code",
   "execution_count": 6,
   "id": "8e7f6161",
   "metadata": {},
   "outputs": [],
   "source": [
    "# Split the data into training and testing sets\n",
    "X_train, X_test, y_train, y_test = train_test_split(X, y, test_size=0.3, random_state=42)"
   ]
  },
  {
   "cell_type": "code",
   "execution_count": 7,
   "id": "fa84d280",
   "metadata": {},
   "outputs": [],
   "source": [
    "# Standardize the features\n",
    "scaler = StandardScaler()\n",
    "X_train = scaler.fit_transform(X_train)\n",
    "X_test = scaler.transform(X_test)"
   ]
  },
  {
   "cell_type": "code",
   "execution_count": 8,
   "id": "7d653cfb",
   "metadata": {},
   "outputs": [],
   "source": [
    "# Initialize the perceptron\n",
    "perceptron = SingleLayerPerceptron(input_size=2, learning_rate=0.1, epochs=100)"
   ]
  },
  {
   "cell_type": "code",
   "execution_count": 9,
   "id": "998ac002",
   "metadata": {},
   "outputs": [],
   "source": [
    "# Train the perceptron\n",
    "perceptron.train(X_train, y_train)"
   ]
  },
  {
   "cell_type": "code",
   "execution_count": 10,
   "id": "198f1d85",
   "metadata": {},
   "outputs": [],
   "source": [
    "# Test the perceptron\n",
    "y_pred = np.array([perceptron.predict(x) for x in X_test])"
   ]
  },
  {
   "cell_type": "code",
   "execution_count": 11,
   "id": "8a364c24",
   "metadata": {},
   "outputs": [
    {
     "name": "stdout",
     "output_type": "stream",
     "text": [
      "Accuracy: 96.67%\n"
     ]
    }
   ],
   "source": [
    "# Evaluate the model accuracy\n",
    "accuracy = np.mean(y_pred == y_test)\n",
    "print(f\"Accuracy: {accuracy * 100:.2f}%\")"
   ]
  },
  {
   "cell_type": "code",
   "execution_count": 12,
   "id": "a634209b",
   "metadata": {},
   "outputs": [
    {
     "name": "stdout",
     "output_type": "stream",
     "text": [
      "Input: [ 0.77479765 -0.80241615], Prediction: 1, Actual: 1\n",
      "Input: [ 0.02360879 -1.67664385], Prediction: 1, Actual: 1\n",
      "Input: [0.62455988 0.29036849], Prediction: 1, Actual: 1\n",
      "Input: [-1.0280556  -0.14674537], Prediction: 0, Actual: 0\n",
      "Input: [-0.57734229  1.60171005], Prediction: 0, Actual: 0\n",
      "Input: [-0.57734229  0.72748234], Prediction: 0, Actual: 0\n",
      "Input: [-1.32853114  1.1645962 ], Prediction: 0, Actual: 0\n",
      "Input: [ 0.02360879 -1.45808693], Prediction: 1, Actual: 1\n",
      "Input: [-0.12662898  1.38315312], Prediction: 0, Actual: 0\n",
      "Input: [-0.57734229  0.94603927], Prediction: 0, Actual: 0\n",
      "Input: [0.32408433 1.60171005], Prediction: 1, Actual: 0\n",
      "Input: [-1.0280556   0.07181156], Prediction: 0, Actual: 0\n",
      "Input: [ 0.92503542 -0.58385922], Prediction: 1, Actual: 1\n",
      "Input: [0.02360879 2.47593776], Prediction: 0, Actual: 0\n",
      "Input: [ 0.02360879 -1.02097307], Prediction: 1, Actual: 1\n",
      "Input: [-0.72758006  1.1645962 ], Prediction: 0, Actual: 0\n",
      "Input: [ 1.97669981 -0.58385922], Prediction: 1, Actual: 1\n",
      "Input: [ 1.82646204 -0.14674537], Prediction: 1, Actual: 1\n",
      "Input: [-1.0280556  -0.14674537], Prediction: 0, Actual: 0\n",
      "Input: [-0.12662898  0.72748234], Prediction: 0, Actual: 0\n",
      "Input: [ 0.32408433 -0.58385922], Prediction: 1, Actual: 1\n",
      "Input: [ 0.17384656 -0.14674537], Prediction: 1, Actual: 1\n",
      "Input: [-0.72758006  0.72748234], Prediction: 0, Actual: 0\n",
      "Input: [-1.62900669  0.29036849], Prediction: 0, Actual: 0\n",
      "Input: [ 0.17384656 -1.23953   ], Prediction: 1, Actual: 1\n",
      "Input: [0.32408433 2.91305161], Prediction: 0, Actual: 0\n",
      "Input: [-0.72758006  0.94603927], Prediction: 0, Actual: 0\n",
      "Input: [ 0.32408433 -0.36530229], Prediction: 1, Actual: 1\n",
      "Input: [-0.87781783  0.07181156], Prediction: 0, Actual: 0\n",
      "Input: [ 1.22551096 -1.23953   ], Prediction: 1, Actual: 1\n"
     ]
    }
   ],
   "source": [
    "# Print predictions for test data\n",
    "for i, x in enumerate(X_test):\n",
    "    print(f\"Input: {x}, Prediction: {y_pred[i]}, Actual: {y_test[i]}\")"
   ]
  },
  {
   "cell_type": "code",
   "execution_count": null,
   "id": "e8dd3b4d",
   "metadata": {},
   "outputs": [],
   "source": []
  }
 ],
 "metadata": {
  "kernelspec": {
   "display_name": "Python 3 (ipykernel)",
   "language": "python",
   "name": "python3"
  },
  "language_info": {
   "codemirror_mode": {
    "name": "ipython",
    "version": 3
   },
   "file_extension": ".py",
   "mimetype": "text/x-python",
   "name": "python",
   "nbconvert_exporter": "python",
   "pygments_lexer": "ipython3",
   "version": "3.10.9"
  }
 },
 "nbformat": 4,
 "nbformat_minor": 5
}
